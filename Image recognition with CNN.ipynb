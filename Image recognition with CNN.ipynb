{
 "cells": [
  {
   "cell_type": "code",
   "execution_count": 1,
   "metadata": {},
   "outputs": [],
   "source": [
    "import numpy as np\n",
    "import pandas as pd\n",
    "import matplotlib.pyplot as plt\n",
    "import seaborn as sb\n",
    "from scipy.ndimage import imread\n",
    "import os\n",
    "%matplotlib inline"
   ]
  },
  {
   "cell_type": "markdown",
   "metadata": {},
   "source": [
    "## 1. Load the images and convert to grayscale for faster learning"
   ]
  },
  {
   "cell_type": "code",
   "execution_count": 60,
   "metadata": {},
   "outputs": [],
   "source": [
    "os.chdir('/Users/agatagramatyka/Files/Jedha_maitrise/Week_5/train-walk')\n",
    "listfiles = os.listdir()\n",
    "walk_train = [plt.imread(a) for a in listfiles] # load and read the images into a list\n",
    "walktrain_BW = [np.mean(a[:,:,:-1], axis=2) for a in walk_train] # convert the images into grayscale\n",
    "walktrain_BW_arr = np.array(walktrain_BW) \n",
    "shape = walktrain_BW_arr.shape\n",
    "walktrain_BW_arr = np.reshape(walktrain_BW_arr, (shape[0],1,shape[1],shape[2])) \n",
    "walktrain_y = np.zeros(shape = walktrain_BW_arr.shape[0]) # 0 for walk, 1 for run"
   ]
  },
  {
   "cell_type": "code",
   "execution_count": 61,
   "metadata": {},
   "outputs": [],
   "source": [
    "os.chdir('/Users/agatagramatyka/Files/Jedha_maitrise/Week_5/train-run')\n",
    "listfiles = os.listdir()\n",
    "run_train = [plt.imread(a) for a in listfiles]\n",
    "runtrain_BW = [np.mean(a[:,:,:-1], axis=2) for a in run_train]\n",
    "runtrain_BW_arr = np.array(runtrain_BW)\n",
    "shape = runtrain_BW_arr.shape\n",
    "runtrain_BW_arr = np.reshape(runtrain_BW_arr, (shape[0],1,shape[1],shape[2]))\n",
    "runtrain_y = np.zeros(shape = runtrain_BW_arr.shape[0]) + 1 # 0 for walk, 1 for run"
   ]
  },
  {
   "cell_type": "code",
   "execution_count": 62,
   "metadata": {},
   "outputs": [],
   "source": [
    "os.chdir('/Users/agatagramatyka/Files/Jedha_maitrise/Week_5/test-run')\n",
    "listfiles = os.listdir()\n",
    "run_test = [plt.imread(a) for a in listfiles]\n",
    "runtest_BW = [np.mean(a[:,:,:-1], axis=2) for a in run_test]\n",
    "runtest_BW_arr = np.array(runtest_BW)\n",
    "shape = runtest_BW_arr.shape\n",
    "runtest_BW_arr = np.reshape(runtest_BW_arr, (shape[0],1,shape[1],shape[2]))\n",
    "runtest_y = np.zeros(shape = runtest_BW_arr.shape[0]) + 1 # 0 for walk, 1 for run"
   ]
  },
  {
   "cell_type": "code",
   "execution_count": 63,
   "metadata": {},
   "outputs": [],
   "source": [
    "os.chdir('/Users/agatagramatyka/Files/Jedha_maitrise/Week_5/test-walk')\n",
    "listfiles = os.listdir()\n",
    "walk_test = [plt.imread(a) for a in listfiles]\n",
    "walktest_BW = [np.mean(a[:,:,:-1], axis=2) for a in walk_test]\n",
    "walktest_BW_arr = np.array(walktest_BW)\n",
    "shape = walktest_BW_arr.shape\n",
    "walktest_BW_arr = np.reshape(walktest_BW_arr, (shape[0],1,shape[1],shape[2]))\n",
    "walktest_y = np.zeros(shape = walktest_BW_arr.shape[0]) # 0 for walk, 1 for run"
   ]
  },
  {
   "cell_type": "code",
   "execution_count": 64,
   "metadata": {},
   "outputs": [],
   "source": [
    "X_train = np.concatenate((walktrain_BW_arr, runtrain_BW_arr))\n",
    "y_train = np.concatenate((walktrain_y, runtrain_y))\n",
    "X_test = np.concatenate((walktest_BW_arr, runtest_BW_arr))\n",
    "y_test = np.concatenate((walktest_y, runtest_y))"
   ]
  },
  {
   "cell_type": "code",
   "execution_count": 65,
   "metadata": {},
   "outputs": [
    {
     "data": {
      "text/plain": [
       "(600,)"
      ]
     },
     "execution_count": 65,
     "metadata": {},
     "output_type": "execute_result"
    }
   ],
   "source": [
    "y_train.shape"
   ]
  },
  {
   "cell_type": "markdown",
   "metadata": {},
   "source": [
    "## 2. Build and apply a CNN model with Keras "
   ]
  },
  {
   "cell_type": "code",
   "execution_count": 52,
   "metadata": {
    "collapsed": true
   },
   "outputs": [
    {
     "name": "stderr",
     "output_type": "stream",
     "text": [
      "/anaconda3/lib/python3.6/site-packages/h5py/__init__.py:36: FutureWarning: Conversion of the second argument of issubdtype from `float` to `np.floating` is deprecated. In future, it will be treated as `np.float64 == np.dtype(float).type`.\n",
      "  from ._conv import register_converters as _register_converters\n",
      "Using TensorFlow backend.\n"
     ]
    }
   ],
   "source": [
    "import keras as k"
   ]
  },
  {
   "cell_type": "code",
   "execution_count": 66,
   "metadata": {},
   "outputs": [],
   "source": [
    "# Convert target variables to categorical\n",
    "y_train = k.utils.to_categorical(y_train)\n",
    "y_test = k.utils.to_categorical(y_test)"
   ]
  },
  {
   "cell_type": "code",
   "execution_count": 54,
   "metadata": {},
   "outputs": [],
   "source": [
    "from keras.models import Sequential\n",
    "from keras.layers import Dense\n",
    "from keras.layers import Dropout\n",
    "from keras.layers import Flatten\n",
    "from keras.layers.convolutional import Conv2D\n",
    "from keras.layers.convolutional import MaxPooling2D\n",
    "from keras.utils import np_utils\n",
    "from keras import backend as K\n",
    "K.set_image_dim_ordering('th')"
   ]
  },
  {
   "cell_type": "code",
   "execution_count": 67,
   "metadata": {},
   "outputs": [],
   "source": [
    "num_classes = y_test.shape[1]"
   ]
  },
  {
   "cell_type": "code",
   "execution_count": 68,
   "metadata": {},
   "outputs": [],
   "source": [
    "model = Sequential()\n",
    "model.add(Conv2D(32, (5, 5), input_shape=(1, 224, 224), activation='relu'))\n",
    "model.add(MaxPooling2D(pool_size=(4, 4)))\n",
    "model.add(Dropout(0.2))\n",
    "model.add(Flatten())\n",
    "model.add(Dense(16, activation='relu'))\n",
    "model.add(Dense(num_classes, activation='softmax'))\n",
    "\n",
    "model.compile(loss='categorical_crossentropy', optimizer='adam', metrics=['accuracy'])"
   ]
  },
  {
   "cell_type": "code",
   "execution_count": 69,
   "metadata": {},
   "outputs": [
    {
     "name": "stdout",
     "output_type": "stream",
     "text": [
      "Train on 600 samples, validate on 141 samples\n",
      "Epoch 1/10\n",
      " - 171s - loss: 1.4305 - acc: 0.5133 - val_loss: 0.6922 - val_acc: 0.5816\n",
      "Epoch 2/10\n",
      " - 202s - loss: 0.6932 - acc: 0.4983 - val_loss: 0.6921 - val_acc: 0.5816\n",
      "Epoch 3/10\n",
      " - 233s - loss: 0.6932 - acc: 0.4983 - val_loss: 0.6920 - val_acc: 0.5816\n",
      "Epoch 4/10\n",
      " - 177s - loss: 0.6932 - acc: 0.4983 - val_loss: 0.6921 - val_acc: 0.5816\n",
      "Epoch 5/10\n",
      " - 153s - loss: 0.6932 - acc: 0.4983 - val_loss: 0.6922 - val_acc: 0.5816\n",
      "Epoch 6/10\n",
      " - 157s - loss: 0.6932 - acc: 0.4983 - val_loss: 0.6922 - val_acc: 0.5816\n",
      "Epoch 7/10\n",
      " - 155s - loss: 0.6932 - acc: 0.4983 - val_loss: 0.6923 - val_acc: 0.5816\n",
      "Epoch 8/10\n",
      " - 478s - loss: 0.6932 - acc: 0.4983 - val_loss: 0.6923 - val_acc: 0.5816\n",
      "Epoch 9/10\n",
      " - 177s - loss: 0.6932 - acc: 0.4983 - val_loss: 0.6924 - val_acc: 0.5816\n",
      "Epoch 10/10\n",
      " - 196s - loss: 0.6932 - acc: 0.4983 - val_loss: 0.6926 - val_acc: 0.5816\n"
     ]
    },
    {
     "data": {
      "text/plain": [
       "<keras.callbacks.History at 0x1aa452b518>"
      ]
     },
     "execution_count": 69,
     "metadata": {},
     "output_type": "execute_result"
    }
   ],
   "source": [
    "model.fit(X_train, y_train, validation_data=(X_test, y_test), epochs=10, batch_size=None, verbose=2)"
   ]
  },
  {
   "cell_type": "code",
   "execution_count": 70,
   "metadata": {},
   "outputs": [
    {
     "name": "stdout",
     "output_type": "stream",
     "text": [
      "CNN Error: 41.84%\n"
     ]
    }
   ],
   "source": [
    "scores = model.evaluate(X_test, y_test, verbose=0)\n",
    "print(\"CNN Error: %.2f%%\" % (100-scores[1]*100))"
   ]
  },
  {
   "cell_type": "code",
   "execution_count": null,
   "metadata": {},
   "outputs": [],
   "source": []
  }
 ],
 "metadata": {
  "kernelspec": {
   "display_name": "Python 3",
   "language": "python",
   "name": "python3"
  },
  "language_info": {
   "codemirror_mode": {
    "name": "ipython",
    "version": 3
   },
   "file_extension": ".py",
   "mimetype": "text/x-python",
   "name": "python",
   "nbconvert_exporter": "python",
   "pygments_lexer": "ipython3",
   "version": "3.6.8"
  }
 },
 "nbformat": 4,
 "nbformat_minor": 2
}
